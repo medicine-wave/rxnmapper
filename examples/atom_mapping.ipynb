{
 "cells": [
  {
   "cell_type": "code",
   "execution_count": 1,
   "metadata": {
    "tags": []
   },
   "outputs": [],
   "source": [
    "from rdkit import Chem\n",
    "from rdkit.Chem import AllChem\n",
    "import pandas as pd\n",
    "import numpy as np\n",
    "import re"
   ]
  },
  {
   "cell_type": "code",
   "execution_count": 2,
   "metadata": {},
   "outputs": [],
   "source": [
    "a = 'O[C:1](=[O:2])[c:3]1[cH:4][c:5]([N+:6](=[O:7])[O-:8])[c:9]([S:10][c:11]2[c:12]([Cl:13])[cH:14][n:15][cH:16][c:17]2[Cl:18])[s:19]1.[NH2:20][c:21]1[cH:22][cH:23][cH:24][c:25]2[cH:26][n:27][cH:28][cH:29][c:30]12>>[C:1](=[O:2])([c:3]1[cH:4][c:5]([N+:6](=[O:7])[O-:8])[c:9]([S:10][c:11]2[c:12]([Cl:13])[cH:14][n:15][cH:16][c:17]2[Cl:18])[s:19]1)[NH:20][c:21]1[cH:22][cH:23][cH:24][c:25]2[cH:26][n:27][cH:28][cH:29][c:30]12'"
   ]
  },
  {
   "cell_type": "code",
   "execution_count": 3,
   "metadata": {},
   "outputs": [
    {
     "name": "stdout",
     "output_type": "stream",
     "text": [
      "['O[C:1](=[O:2])[c:3]1[cH:4][c:5]([N+:6](=[O:7])[O-:8])[c:9]([S:10][c:11]2[c:12]([Cl:13])[cH:14][n:15][cH:16][c:17]2[Cl:18])[s:19]1', '[NH2:20][c:21]1[cH:22][cH:23][cH:24][c:25]2[cH:26][n:27][cH:28][cH:29][c:30]12']\n",
      "['[C:1](=[O:2])([c:3]1[cH:4][c:5]([N+:6](=[O:7])[O-:8])[c:9]([S:10][c:11]2[c:12]([Cl:13])[cH:14][n:15][cH:16][c:17]2[Cl:18])[s:19]1)[NH:20][c:21]1[cH:22][cH:23][cH:24][c:25]2[cH:26][n:27][cH:28][cH:29][c:30]12']\n"
     ]
    }
   ],
   "source": [
    "# Split reactans list and products list from rxn\n",
    "all_reactants, all_products = a.split('>>')\n",
    "\n",
    "reactants = all_reactants.split('.')\n",
    "products = all_products.split('.')\n",
    "print(reactants)\n",
    "print(products)"
   ]
  },
  {
   "cell_type": "code",
   "execution_count": 4,
   "metadata": {},
   "outputs": [],
   "source": [
    "# Remove all Atom Map Number of the mols in a list\n",
    "def remove_all_AtomMapNumber(list):\n",
    "    unmapped_mol = []\n",
    "    mapped_mol = [Chem.MolFromSmiles(smi) for smi in list]\n",
    "    for mol in mapped_mol:\n",
    "        for a in mol.GetAtoms():\n",
    "            if a.HasProp('molAtomMapNumber'):\n",
    "                a.ClearProp('molAtomMapNumber')\n",
    "        unmapped_mol.append(Chem.MolToSmiles(mol, True)) \n",
    "    return unmapped_mol"
   ]
  },
  {
   "cell_type": "code",
   "execution_count": 5,
   "metadata": {},
   "outputs": [
    {
     "name": "stdout",
     "output_type": "stream",
     "text": [
      "['O=C(O)c1cc([N+](=O)[O-])c(Sc2c(Cl)cncc2Cl)s1', 'Nc1cccc2cnccc12']\n",
      "['O=C(Nc1cccc2cnccc12)c1cc([N+](=O)[O-])c(Sc2c(Cl)cncc2Cl)s1']\n"
     ]
    }
   ],
   "source": [
    "reactants_unmapped = remove_all_AtomMapNumber(reactants)\n",
    "products_unmapped = remove_all_AtomMapNumber(products)\n",
    "print(reactants_unmapped)\n",
    "print(products_unmapped)"
   ]
  },
  {
   "cell_type": "code",
   "execution_count": 6,
   "metadata": {},
   "outputs": [
    {
     "name": "stdout",
     "output_type": "stream",
     "text": [
      "O=C(O)c1cc([N+](=O)[O-])c(Sc2c(Cl)cncc2Cl)s1.Nc1cccc2cnccc12>>O=C(Nc1cccc2cnccc12)c1cc([N+](=O)[O-])c(Sc2c(Cl)cncc2Cl)s1\n"
     ]
    }
   ],
   "source": [
    "# Merge the reactants_unmapped and products_unmapped  to a rxn\n",
    "\n",
    "reactants_rxn = '.'.join(reactants_unmapped)\n",
    "products_rxn = products_unmapped[0]\n",
    "\n",
    "rxn = reactants_rxn+\">>\"+products_rxn\n",
    "print(rxn)"
   ]
  },
  {
   "cell_type": "code",
   "execution_count": 8,
   "metadata": {},
   "outputs": [
    {
     "ename": "RuntimeError",
     "evalue": "CUDA error: CUBLAS_STATUS_EXECUTION_FAILED when calling `cublasSgemm( handle, opa, opb, m, n, k, &alpha, a, lda, b, ldb, &beta, c, ldc)`",
     "output_type": "error",
     "traceback": [
      "\u001b[0;31m---------------------------------------------------------------------------\u001b[0m",
      "\u001b[0;31mRuntimeError\u001b[0m                              Traceback (most recent call last)",
      "\u001b[0;32m<ipython-input-8-a7aa6b543e1d>\u001b[0m in \u001b[0;36m<module>\u001b[0;34m()\u001b[0m\n\u001b[1;32m      3\u001b[0m \u001b[0mrxn_mapper\u001b[0m \u001b[0;34m=\u001b[0m \u001b[0mRXNMapper\u001b[0m\u001b[0;34m(\u001b[0m\u001b[0;34m)\u001b[0m\u001b[0;34m\u001b[0m\u001b[0;34m\u001b[0m\u001b[0m\n\u001b[1;32m      4\u001b[0m \u001b[0mrxns\u001b[0m \u001b[0;34m=\u001b[0m \u001b[0;34m[\u001b[0m\u001b[0;34m'CC(C)S.CN(C)C=O.Fc1cccnc1F.O=C([O-])[O-].[K+].[K+]>>CC(C)Sc1ncccc1F'\u001b[0m\u001b[0;34m,\u001b[0m \u001b[0;34m'C1COCCO1.CC(C)(C)OC(=O)CONC(=O)NCc1cccc2ccccc12.Cl>>O=C(O)CONC(=O)NCc1cccc2ccccc12'\u001b[0m\u001b[0;34m]\u001b[0m\u001b[0;34m\u001b[0m\u001b[0;34m\u001b[0m\u001b[0m\n\u001b[0;32m----> 5\u001b[0;31m \u001b[0mresults\u001b[0m \u001b[0;34m=\u001b[0m \u001b[0mrxn_mapper\u001b[0m\u001b[0;34m.\u001b[0m\u001b[0mget_attention_guided_atom_maps\u001b[0m\u001b[0;34m(\u001b[0m\u001b[0mrxns\u001b[0m\u001b[0;34m)\u001b[0m\u001b[0;34m\u001b[0m\u001b[0;34m\u001b[0m\u001b[0m\n\u001b[0m",
      "\u001b[0;32m/root/miniconda3/envs/rxnmapper/lib/python3.6/site-packages/rxnmapper/core.py\u001b[0m in \u001b[0;36mget_attention_guided_atom_maps\u001b[0;34m(self, rxns, zero_set_p, zero_set_r, canonicalize_rxns, detailed_output, absolute_product_inds, force_layer, force_head)\u001b[0m\n\u001b[1;32m    191\u001b[0m \u001b[0;34m\u001b[0m\u001b[0m\n\u001b[1;32m    192\u001b[0m         attns = self.convert_batch_to_attns(\n\u001b[0;32m--> 193\u001b[0;31m             \u001b[0mrxns\u001b[0m\u001b[0;34m,\u001b[0m \u001b[0mforce_layer\u001b[0m\u001b[0;34m=\u001b[0m\u001b[0mforce_layer\u001b[0m\u001b[0;34m,\u001b[0m \u001b[0mforce_head\u001b[0m\u001b[0;34m=\u001b[0m\u001b[0mforce_head\u001b[0m\u001b[0;34m\u001b[0m\u001b[0;34m\u001b[0m\u001b[0m\n\u001b[0m\u001b[1;32m    194\u001b[0m         )\n\u001b[1;32m    195\u001b[0m \u001b[0;34m\u001b[0m\u001b[0m\n",
      "\u001b[0;32m/root/miniconda3/envs/rxnmapper/lib/python3.6/site-packages/rxnmapper/core.py\u001b[0m in \u001b[0;36mconvert_batch_to_attns\u001b[0;34m(self, rxn_smiles_list, force_layer, force_head)\u001b[0m\n\u001b[1;32m    122\u001b[0m         }\n\u001b[1;32m    123\u001b[0m         \u001b[0;32mwith\u001b[0m \u001b[0mtorch\u001b[0m\u001b[0;34m.\u001b[0m\u001b[0mno_grad\u001b[0m\u001b[0;34m(\u001b[0m\u001b[0;34m)\u001b[0m\u001b[0;34m:\u001b[0m\u001b[0;34m\u001b[0m\u001b[0;34m\u001b[0m\u001b[0m\n\u001b[0;32m--> 124\u001b[0;31m             \u001b[0moutput\u001b[0m \u001b[0;34m=\u001b[0m \u001b[0mself\u001b[0m\u001b[0;34m.\u001b[0m\u001b[0mmodel\u001b[0m\u001b[0;34m(\u001b[0m\u001b[0;34m**\u001b[0m\u001b[0mparsed_input\u001b[0m\u001b[0;34m)\u001b[0m\u001b[0;34m\u001b[0m\u001b[0;34m\u001b[0m\u001b[0m\n\u001b[0m\u001b[1;32m    125\u001b[0m         \u001b[0mattentions\u001b[0m \u001b[0;34m=\u001b[0m \u001b[0moutput\u001b[0m\u001b[0;34m[\u001b[0m\u001b[0;36m2\u001b[0m\u001b[0;34m]\u001b[0m\u001b[0;34m\u001b[0m\u001b[0;34m\u001b[0m\u001b[0m\n\u001b[1;32m    126\u001b[0m         selected_attns = torch.cat(\n",
      "\u001b[0;32m/root/miniconda3/envs/rxnmapper/lib/python3.6/site-packages/torch/nn/modules/module.py\u001b[0m in \u001b[0;36m__call__\u001b[0;34m(self, *input, **kwargs)\u001b[0m\n\u001b[1;32m    548\u001b[0m             \u001b[0mresult\u001b[0m \u001b[0;34m=\u001b[0m \u001b[0mself\u001b[0m\u001b[0;34m.\u001b[0m\u001b[0m_slow_forward\u001b[0m\u001b[0;34m(\u001b[0m\u001b[0;34m*\u001b[0m\u001b[0minput\u001b[0m\u001b[0;34m,\u001b[0m \u001b[0;34m**\u001b[0m\u001b[0mkwargs\u001b[0m\u001b[0;34m)\u001b[0m\u001b[0;34m\u001b[0m\u001b[0;34m\u001b[0m\u001b[0m\n\u001b[1;32m    549\u001b[0m         \u001b[0;32melse\u001b[0m\u001b[0;34m:\u001b[0m\u001b[0;34m\u001b[0m\u001b[0;34m\u001b[0m\u001b[0m\n\u001b[0;32m--> 550\u001b[0;31m             \u001b[0mresult\u001b[0m \u001b[0;34m=\u001b[0m \u001b[0mself\u001b[0m\u001b[0;34m.\u001b[0m\u001b[0mforward\u001b[0m\u001b[0;34m(\u001b[0m\u001b[0;34m*\u001b[0m\u001b[0minput\u001b[0m\u001b[0;34m,\u001b[0m \u001b[0;34m**\u001b[0m\u001b[0mkwargs\u001b[0m\u001b[0;34m)\u001b[0m\u001b[0;34m\u001b[0m\u001b[0;34m\u001b[0m\u001b[0m\n\u001b[0m\u001b[1;32m    551\u001b[0m         \u001b[0;32mfor\u001b[0m \u001b[0mhook\u001b[0m \u001b[0;32min\u001b[0m \u001b[0mself\u001b[0m\u001b[0;34m.\u001b[0m\u001b[0m_forward_hooks\u001b[0m\u001b[0;34m.\u001b[0m\u001b[0mvalues\u001b[0m\u001b[0;34m(\u001b[0m\u001b[0;34m)\u001b[0m\u001b[0;34m:\u001b[0m\u001b[0;34m\u001b[0m\u001b[0;34m\u001b[0m\u001b[0m\n\u001b[1;32m    552\u001b[0m             \u001b[0mhook_result\u001b[0m \u001b[0;34m=\u001b[0m \u001b[0mhook\u001b[0m\u001b[0;34m(\u001b[0m\u001b[0mself\u001b[0m\u001b[0;34m,\u001b[0m \u001b[0minput\u001b[0m\u001b[0;34m,\u001b[0m \u001b[0mresult\u001b[0m\u001b[0;34m)\u001b[0m\u001b[0;34m\u001b[0m\u001b[0;34m\u001b[0m\u001b[0m\n",
      "\u001b[0;32m/root/miniconda3/envs/rxnmapper/lib/python3.6/site-packages/transformers/models/albert/modeling_albert.py\u001b[0m in \u001b[0;36mforward\u001b[0;34m(self, input_ids, attention_mask, token_type_ids, position_ids, head_mask, inputs_embeds, output_attentions, output_hidden_states, return_dict)\u001b[0m\n\u001b[1;32m    692\u001b[0m             \u001b[0moutput_attentions\u001b[0m\u001b[0;34m=\u001b[0m\u001b[0moutput_attentions\u001b[0m\u001b[0;34m,\u001b[0m\u001b[0;34m\u001b[0m\u001b[0;34m\u001b[0m\u001b[0m\n\u001b[1;32m    693\u001b[0m             \u001b[0moutput_hidden_states\u001b[0m\u001b[0;34m=\u001b[0m\u001b[0moutput_hidden_states\u001b[0m\u001b[0;34m,\u001b[0m\u001b[0;34m\u001b[0m\u001b[0;34m\u001b[0m\u001b[0m\n\u001b[0;32m--> 694\u001b[0;31m             \u001b[0mreturn_dict\u001b[0m\u001b[0;34m=\u001b[0m\u001b[0mreturn_dict\u001b[0m\u001b[0;34m,\u001b[0m\u001b[0;34m\u001b[0m\u001b[0;34m\u001b[0m\u001b[0m\n\u001b[0m\u001b[1;32m    695\u001b[0m         )\n\u001b[1;32m    696\u001b[0m \u001b[0;34m\u001b[0m\u001b[0m\n",
      "\u001b[0;32m/root/miniconda3/envs/rxnmapper/lib/python3.6/site-packages/torch/nn/modules/module.py\u001b[0m in \u001b[0;36m__call__\u001b[0;34m(self, *input, **kwargs)\u001b[0m\n\u001b[1;32m    548\u001b[0m             \u001b[0mresult\u001b[0m \u001b[0;34m=\u001b[0m \u001b[0mself\u001b[0m\u001b[0;34m.\u001b[0m\u001b[0m_slow_forward\u001b[0m\u001b[0;34m(\u001b[0m\u001b[0;34m*\u001b[0m\u001b[0minput\u001b[0m\u001b[0;34m,\u001b[0m \u001b[0;34m**\u001b[0m\u001b[0mkwargs\u001b[0m\u001b[0;34m)\u001b[0m\u001b[0;34m\u001b[0m\u001b[0;34m\u001b[0m\u001b[0m\n\u001b[1;32m    549\u001b[0m         \u001b[0;32melse\u001b[0m\u001b[0;34m:\u001b[0m\u001b[0;34m\u001b[0m\u001b[0;34m\u001b[0m\u001b[0m\n\u001b[0;32m--> 550\u001b[0;31m             \u001b[0mresult\u001b[0m \u001b[0;34m=\u001b[0m \u001b[0mself\u001b[0m\u001b[0;34m.\u001b[0m\u001b[0mforward\u001b[0m\u001b[0;34m(\u001b[0m\u001b[0;34m*\u001b[0m\u001b[0minput\u001b[0m\u001b[0;34m,\u001b[0m \u001b[0;34m**\u001b[0m\u001b[0mkwargs\u001b[0m\u001b[0;34m)\u001b[0m\u001b[0;34m\u001b[0m\u001b[0;34m\u001b[0m\u001b[0m\n\u001b[0m\u001b[1;32m    551\u001b[0m         \u001b[0;32mfor\u001b[0m \u001b[0mhook\u001b[0m \u001b[0;32min\u001b[0m \u001b[0mself\u001b[0m\u001b[0;34m.\u001b[0m\u001b[0m_forward_hooks\u001b[0m\u001b[0;34m.\u001b[0m\u001b[0mvalues\u001b[0m\u001b[0;34m(\u001b[0m\u001b[0;34m)\u001b[0m\u001b[0;34m:\u001b[0m\u001b[0;34m\u001b[0m\u001b[0;34m\u001b[0m\u001b[0m\n\u001b[1;32m    552\u001b[0m             \u001b[0mhook_result\u001b[0m \u001b[0;34m=\u001b[0m \u001b[0mhook\u001b[0m\u001b[0;34m(\u001b[0m\u001b[0mself\u001b[0m\u001b[0;34m,\u001b[0m \u001b[0minput\u001b[0m\u001b[0;34m,\u001b[0m \u001b[0mresult\u001b[0m\u001b[0;34m)\u001b[0m\u001b[0;34m\u001b[0m\u001b[0;34m\u001b[0m\u001b[0m\n",
      "\u001b[0;32m/root/miniconda3/envs/rxnmapper/lib/python3.6/site-packages/transformers/models/albert/modeling_albert.py\u001b[0m in \u001b[0;36mforward\u001b[0;34m(self, hidden_states, attention_mask, head_mask, output_attentions, output_hidden_states, return_dict)\u001b[0m\n\u001b[1;32m    424\u001b[0m         \u001b[0mreturn_dict\u001b[0m\u001b[0;34m=\u001b[0m\u001b[0;32mTrue\u001b[0m\u001b[0;34m,\u001b[0m\u001b[0;34m\u001b[0m\u001b[0;34m\u001b[0m\u001b[0m\n\u001b[1;32m    425\u001b[0m     ):\n\u001b[0;32m--> 426\u001b[0;31m         \u001b[0mhidden_states\u001b[0m \u001b[0;34m=\u001b[0m \u001b[0mself\u001b[0m\u001b[0;34m.\u001b[0m\u001b[0membedding_hidden_mapping_in\u001b[0m\u001b[0;34m(\u001b[0m\u001b[0mhidden_states\u001b[0m\u001b[0;34m)\u001b[0m\u001b[0;34m\u001b[0m\u001b[0;34m\u001b[0m\u001b[0m\n\u001b[0m\u001b[1;32m    427\u001b[0m \u001b[0;34m\u001b[0m\u001b[0m\n\u001b[1;32m    428\u001b[0m         \u001b[0mall_hidden_states\u001b[0m \u001b[0;34m=\u001b[0m \u001b[0;34m(\u001b[0m\u001b[0mhidden_states\u001b[0m\u001b[0;34m,\u001b[0m\u001b[0;34m)\u001b[0m \u001b[0;32mif\u001b[0m \u001b[0moutput_hidden_states\u001b[0m \u001b[0;32melse\u001b[0m \u001b[0;32mNone\u001b[0m\u001b[0;34m\u001b[0m\u001b[0;34m\u001b[0m\u001b[0m\n",
      "\u001b[0;32m/root/miniconda3/envs/rxnmapper/lib/python3.6/site-packages/torch/nn/modules/module.py\u001b[0m in \u001b[0;36m__call__\u001b[0;34m(self, *input, **kwargs)\u001b[0m\n\u001b[1;32m    548\u001b[0m             \u001b[0mresult\u001b[0m \u001b[0;34m=\u001b[0m \u001b[0mself\u001b[0m\u001b[0;34m.\u001b[0m\u001b[0m_slow_forward\u001b[0m\u001b[0;34m(\u001b[0m\u001b[0;34m*\u001b[0m\u001b[0minput\u001b[0m\u001b[0;34m,\u001b[0m \u001b[0;34m**\u001b[0m\u001b[0mkwargs\u001b[0m\u001b[0;34m)\u001b[0m\u001b[0;34m\u001b[0m\u001b[0;34m\u001b[0m\u001b[0m\n\u001b[1;32m    549\u001b[0m         \u001b[0;32melse\u001b[0m\u001b[0;34m:\u001b[0m\u001b[0;34m\u001b[0m\u001b[0;34m\u001b[0m\u001b[0m\n\u001b[0;32m--> 550\u001b[0;31m             \u001b[0mresult\u001b[0m \u001b[0;34m=\u001b[0m \u001b[0mself\u001b[0m\u001b[0;34m.\u001b[0m\u001b[0mforward\u001b[0m\u001b[0;34m(\u001b[0m\u001b[0;34m*\u001b[0m\u001b[0minput\u001b[0m\u001b[0;34m,\u001b[0m \u001b[0;34m**\u001b[0m\u001b[0mkwargs\u001b[0m\u001b[0;34m)\u001b[0m\u001b[0;34m\u001b[0m\u001b[0;34m\u001b[0m\u001b[0m\n\u001b[0m\u001b[1;32m    551\u001b[0m         \u001b[0;32mfor\u001b[0m \u001b[0mhook\u001b[0m \u001b[0;32min\u001b[0m \u001b[0mself\u001b[0m\u001b[0;34m.\u001b[0m\u001b[0m_forward_hooks\u001b[0m\u001b[0;34m.\u001b[0m\u001b[0mvalues\u001b[0m\u001b[0;34m(\u001b[0m\u001b[0;34m)\u001b[0m\u001b[0;34m:\u001b[0m\u001b[0;34m\u001b[0m\u001b[0;34m\u001b[0m\u001b[0m\n\u001b[1;32m    552\u001b[0m             \u001b[0mhook_result\u001b[0m \u001b[0;34m=\u001b[0m \u001b[0mhook\u001b[0m\u001b[0;34m(\u001b[0m\u001b[0mself\u001b[0m\u001b[0;34m,\u001b[0m \u001b[0minput\u001b[0m\u001b[0;34m,\u001b[0m \u001b[0mresult\u001b[0m\u001b[0;34m)\u001b[0m\u001b[0;34m\u001b[0m\u001b[0;34m\u001b[0m\u001b[0m\n",
      "\u001b[0;32m/root/miniconda3/envs/rxnmapper/lib/python3.6/site-packages/torch/nn/modules/linear.py\u001b[0m in \u001b[0;36mforward\u001b[0;34m(self, input)\u001b[0m\n\u001b[1;32m     85\u001b[0m \u001b[0;34m\u001b[0m\u001b[0m\n\u001b[1;32m     86\u001b[0m     \u001b[0;32mdef\u001b[0m \u001b[0mforward\u001b[0m\u001b[0;34m(\u001b[0m\u001b[0mself\u001b[0m\u001b[0;34m,\u001b[0m \u001b[0minput\u001b[0m\u001b[0;34m)\u001b[0m\u001b[0;34m:\u001b[0m\u001b[0;34m\u001b[0m\u001b[0;34m\u001b[0m\u001b[0m\n\u001b[0;32m---> 87\u001b[0;31m         \u001b[0;32mreturn\u001b[0m \u001b[0mF\u001b[0m\u001b[0;34m.\u001b[0m\u001b[0mlinear\u001b[0m\u001b[0;34m(\u001b[0m\u001b[0minput\u001b[0m\u001b[0;34m,\u001b[0m \u001b[0mself\u001b[0m\u001b[0;34m.\u001b[0m\u001b[0mweight\u001b[0m\u001b[0;34m,\u001b[0m \u001b[0mself\u001b[0m\u001b[0;34m.\u001b[0m\u001b[0mbias\u001b[0m\u001b[0;34m)\u001b[0m\u001b[0;34m\u001b[0m\u001b[0;34m\u001b[0m\u001b[0m\n\u001b[0m\u001b[1;32m     88\u001b[0m \u001b[0;34m\u001b[0m\u001b[0m\n\u001b[1;32m     89\u001b[0m     \u001b[0;32mdef\u001b[0m \u001b[0mextra_repr\u001b[0m\u001b[0;34m(\u001b[0m\u001b[0mself\u001b[0m\u001b[0;34m)\u001b[0m\u001b[0;34m:\u001b[0m\u001b[0;34m\u001b[0m\u001b[0;34m\u001b[0m\u001b[0m\n",
      "\u001b[0;32m/root/miniconda3/envs/rxnmapper/lib/python3.6/site-packages/torch/nn/functional.py\u001b[0m in \u001b[0;36mlinear\u001b[0;34m(input, weight, bias)\u001b[0m\n\u001b[1;32m   1610\u001b[0m         \u001b[0mret\u001b[0m \u001b[0;34m=\u001b[0m \u001b[0mtorch\u001b[0m\u001b[0;34m.\u001b[0m\u001b[0maddmm\u001b[0m\u001b[0;34m(\u001b[0m\u001b[0mbias\u001b[0m\u001b[0;34m,\u001b[0m \u001b[0minput\u001b[0m\u001b[0;34m,\u001b[0m \u001b[0mweight\u001b[0m\u001b[0;34m.\u001b[0m\u001b[0mt\u001b[0m\u001b[0;34m(\u001b[0m\u001b[0;34m)\u001b[0m\u001b[0;34m)\u001b[0m\u001b[0;34m\u001b[0m\u001b[0;34m\u001b[0m\u001b[0m\n\u001b[1;32m   1611\u001b[0m     \u001b[0;32melse\u001b[0m\u001b[0;34m:\u001b[0m\u001b[0;34m\u001b[0m\u001b[0;34m\u001b[0m\u001b[0m\n\u001b[0;32m-> 1612\u001b[0;31m         \u001b[0moutput\u001b[0m \u001b[0;34m=\u001b[0m \u001b[0minput\u001b[0m\u001b[0;34m.\u001b[0m\u001b[0mmatmul\u001b[0m\u001b[0;34m(\u001b[0m\u001b[0mweight\u001b[0m\u001b[0;34m.\u001b[0m\u001b[0mt\u001b[0m\u001b[0;34m(\u001b[0m\u001b[0;34m)\u001b[0m\u001b[0;34m)\u001b[0m\u001b[0;34m\u001b[0m\u001b[0;34m\u001b[0m\u001b[0m\n\u001b[0m\u001b[1;32m   1613\u001b[0m         \u001b[0;32mif\u001b[0m \u001b[0mbias\u001b[0m \u001b[0;32mis\u001b[0m \u001b[0;32mnot\u001b[0m \u001b[0;32mNone\u001b[0m\u001b[0;34m:\u001b[0m\u001b[0;34m\u001b[0m\u001b[0;34m\u001b[0m\u001b[0m\n\u001b[1;32m   1614\u001b[0m             \u001b[0moutput\u001b[0m \u001b[0;34m+=\u001b[0m \u001b[0mbias\u001b[0m\u001b[0;34m\u001b[0m\u001b[0;34m\u001b[0m\u001b[0m\n",
      "\u001b[0;31mRuntimeError\u001b[0m: CUDA error: CUBLAS_STATUS_EXECUTION_FAILED when calling `cublasSgemm( handle, opa, opb, m, n, k, &alpha, a, lda, b, ldb, &beta, c, ldc)`"
     ]
    }
   ],
   "source": [
    "# Adding AtomMapNumber by RXNMapper\n",
    "from rxnmapper import RXNMapper\n",
    "rxn_mapper = RXNMapper()\n",
    "rxns = ['CC(C)S.CN(C)C=O.Fc1cccnc1F.O=C([O-])[O-].[K+].[K+]>>CC(C)Sc1ncccc1F', 'C1COCCO1.CC(C)(C)OC(=O)CONC(=O)NCc1cccc2ccccc12.Cl>>O=C(O)CONC(=O)NCc1cccc2ccccc12']\n",
    "results = rxn_mapper.get_attention_guided_atom_maps(rxns)"
   ]
  },
  {
   "cell_type": "code",
   "execution_count": 7,
   "metadata": {},
   "outputs": [
    {
     "name": "stderr",
     "output_type": "stream",
     "text": [
      "/root/miniconda3/envs/rxnmapper/lib/python3.6/site-packages/tqdm/auto.py:22: TqdmWarning: IProgress not found. Please update jupyter and ipywidgets. See https://ipywidgets.readthedocs.io/en/stable/user_install.html\n",
      "  from .autonotebook import tqdm as notebook_tqdm\n"
     ]
    }
   ],
   "source": [
    "from rxnmapper import RXNMapper\n",
    "rxn_mapper = RXNMapper()\n",
    "results = rxn_mapper.get_attention_guided_atom_maps(rxn)"
   ]
  },
  {
   "cell_type": "code",
   "execution_count": 24,
   "metadata": {},
   "outputs": [
    {
     "name": "stdout",
     "output_type": "stream",
     "text": [
      "['O=C(O)c1cc([N+](=O)[O-])c(Sc2c(Cl)cncc2Cl)s1', 'Nc1cccc2cnccc12']\n"
     ]
    }
   ],
   "source": [
    "print(remove_all_AtomMapNumber(reactants))"
   ]
  },
  {
   "cell_type": "code",
   "execution_count": 10,
   "metadata": {},
   "outputs": [],
   "source": [
    "b = 'CCO.[OH-].[OH-].[Pd+2].c1ccc(C[N:1]2[CH2:2][CH2:3][CH:4]([N:5]([CH2:6][CH3:7])[c:8]3[n:9][c:10]([F:11])[cH:12][cH:13][c:14]3[NH:15][CH:16]([CH3:17])[CH3:18])[CH2:19][CH2:20]2)cc1>>[NH:1]1[CH2:2][CH2:3][CH:4]([N:5]([CH2:6][CH3:7])[c:8]2[n:9][c:10]([F:11])[cH:12][cH:13][c:14]2[NH:15][CH:16]([CH3:17])[CH3:18])[CH2:19][CH2:20]1'\n",
    "all_reactants, all_products = b.split('>>')"
   ]
  },
  {
   "cell_type": "code",
   "execution_count": 11,
   "metadata": {},
   "outputs": [
    {
     "data": {
      "text/plain": [
       "[<rdkit.Chem.rdchem.Mol at 0x7fc3f5931da0>,\n",
       " <rdkit.Chem.rdchem.Mol at 0x7fc3f5931d50>,\n",
       " <rdkit.Chem.rdchem.Mol at 0x7fc3f5931d00>,\n",
       " <rdkit.Chem.rdchem.Mol at 0x7fc3f5931df0>,\n",
       " <rdkit.Chem.rdchem.Mol at 0x7fc3f5931e40>]"
      ]
     },
     "execution_count": 11,
     "metadata": {},
     "output_type": "execute_result"
    }
   ],
   "source": [
    "products = [Chem.MolFromSmiles(smi) for smi in all_reactants.split('.')] \n",
    "products"
   ]
  },
  {
   "cell_type": "code",
   "execution_count": 12,
   "metadata": {},
   "outputs": [
    {
     "name": "stdout",
     "output_type": "stream",
     "text": [
      "CCO\n",
      "[OH-]\n",
      "[OH-]\n",
      "[Pd+2]\n",
      "c1ccc(C[N:1]2[CH2:2][CH2:3][CH:4]([N:5]([CH2:6][CH3:7])[c:8]3[n:9][c:10]([F:11])[cH:12][cH:13][c:14]3[NH:15][CH:16]([CH3:17])[CH3:18])[CH2:19][CH2:20]2)cc1\n"
     ]
    }
   ],
   "source": [
    "for prod in products:\n",
    "    prod_smi = Chem.MolToSmiles(prod, True)  \n",
    "    print(prod_smi)"
   ]
  },
  {
   "cell_type": "code",
   "execution_count": 15,
   "metadata": {},
   "outputs": [
    {
     "name": "stdout",
     "output_type": "stream",
     "text": [
      "On index 0\n"
     ]
    },
    {
     "name": "stderr",
     "output_type": "stream",
     "text": [
      "/root/miniconda3/envs/rdenv/lib/python3.7/site-packages/ipykernel_launcher.py:27: FutureWarning: Possible nested set at position 4\n"
     ]
    },
    {
     "name": "stdout",
     "output_type": "stream",
     "text": [
      "On index 5000\n",
      "On index 10000\n",
      "On index 15000\n",
      "On index 20000\n",
      "On index 25000\n",
      "On index 30000\n",
      "On index 35000\n",
      "On index 40000\n",
      "On index 45000\n"
     ]
    }
   ],
   "source": [
    "# Create new df from old (minor processing)\n",
    "classes = []\n",
    "ids = [] \n",
    "rxn_smiles = []\n",
    "prod_smiles = []\n",
    "for row in dataSetB.itertuples():                                                       # 遍历的方法\n",
    "    if row[0] % 5000 == 0:\n",
    "        print('On index {:d}'.format(int(row[0])))\n",
    "        \n",
    "    all_reactants, all_products = row[3].split('>>')\n",
    "    products = [Chem.MolFromSmiles(smi) for smi in all_products.split('.')]     # 用rdkit把products全都从smiles转换成mol\n",
    "                                                                                # 把含有\".\"的产物分成多个单个的products\n",
    "    # Multiple products = enumerate\n",
    "    for prod in products:\n",
    "        \n",
    "        # Make sure all have atom mapping\n",
    "        if not all([a.HasProp('molAtomMapNumber') for a in prod.GetAtoms()]):   # 确认每个产物的每个原子是否有atom mapping\n",
    "            continue                                                            # 如果没有，就跳到下一个product\n",
    "        \n",
    "        prod_smi = Chem.MolToSmiles(prod, True)                                 # True：通过使用双键代替小写的碳原子来表示芳香性\n",
    "        \n",
    "        # Re-parse reactants for each product so we can clear maps              ### 在第四列的集合中的数字，才是需要的反应物的索引\n",
    "        reactants = [Chem.MolFromSmiles(smi) for (i, smi) in enumerate(\n",
    "            all_reactants.split('.')) if i in row[4]]\n",
    "        \n",
    "        # Get rid of reactants when they don't contribute to this prod          \n",
    "        prod_maps = set(re.findall('\\:([[0-9]+)\\]', prod_smi))                  # 找到含有 :数字] 的， 做成一个map number 集合， 即为 prod_maps\n",
    "        reactants_smi_list = []                                                 \n",
    "        for mol in reactants:                                                   # 如果反应物中，有原子有map number，获取它的map number\n",
    "            used = False                                                        # 若它的map number在prod_maps 中， 则有使用该反应物\n",
    "            for a in mol.GetAtoms():\n",
    "                if a.HasProp('molAtomMapNumber'):       \n",
    "                    if a.GetProp('molAtomMapNumber') in prod_maps:\n",
    "                        used = True \n",
    "                    else:\n",
    "                        a.ClearProp('molAtomMapNumber')                         # 若它的map number不在prod_maps 中，则清除它的map number\n",
    "            if used:\n",
    "                reactants_smi_list.append(Chem.MolToSmiles(mol, True))          # 若有使用该反应物，就将其添加到 reactans_smi_list列表中\n",
    "                \n",
    "        reactants_smi = '.'.join(reactants_smi_list)                            # 用'.'将所有的反应物连起来\n",
    "        \n",
    "        # Was this just a spectator? Some examples are HCl>>HCl                 # 不参与反应的，从反应物中去掉。\n",
    "        if reactants_smi == prod_smi:                                           \n",
    "            continue\n",
    "        \n",
    "        # Append to ongoing list                                                # 把反应类型和id拉回来\n",
    "        classes.append(row[1])\n",
    "        ids.append(row[2])  \n",
    "        rxn_smiles.append('{}>>{}'.format(reactants_smi, prod_smi))             # 用 >> 连接 reactants_smi 和 prod_smi ， 添加到rxn_smiles\n",
    "        # Save non-mapped prod too\n",
    "        [a.ClearProp('molAtomMapNumber') for a in prod.GetAtoms()]              \n",
    "        prod_smiles.append(Chem.MolToSmiles(prod, True))                        # 将去掉 map number 的  产物， 添加到 prod_smiels\n",
    "        \n",
    "data = pd.DataFrame({'class': classes, \n",
    "                     'id': ids, \n",
    "                     'rxn_smiles': rxn_smiles,\n",
    "                     'prod_smiles': prod_smiles})"
   ]
  },
  {
   "cell_type": "code",
   "execution_count": 9,
   "metadata": {},
   "outputs": [
    {
     "data": {
      "text/plain": [
       "1     15247\n",
       "2     11906\n",
       "6      8237\n",
       "3      5666\n",
       "7      4614\n",
       "9      1834\n",
       "4       909\n",
       "8       811\n",
       "5       672\n",
       "10      230\n",
       "Name: class, dtype: int64"
      ]
     },
     "execution_count": 9,
     "metadata": {},
     "output_type": "execute_result"
    }
   ],
   "source": [
    "data['class'].value_counts()"
   ]
  },
  {
   "cell_type": "code",
   "execution_count": 19,
   "metadata": {},
   "outputs": [
    {
     "name": "stdout",
     "output_type": "stream",
     "text": [
      "[('[Br-]', 48), ('[I-]', 26), ('[Cl-]', 19), ('Cl', 17), ('CC(C)(C)OC(=O)N1CCC(CO)CC1', 6), ('Cc1cccc(C2CC2)c1Oc1nnc(Cl)cc1O', 4), ('Cc1ccc(-c2ccccc2C#N)cc1', 4), ('COc1cc2nccc(Oc3ccc(N)cc3)c2cc1OC', 4), ('COC(=O)c1cccc(N)c1N', 4), ('CN(C)CCn1cc(B2OC(C)(C)C(C)(C)O2)cn1', 3), ('OC(c1ccccc1)c1ccccc1', 3), ('COc1ccc(-c2ccccc2)cc1', 3), ('O=C(NC(CC1C(=O)Nc2ccccc21)C(=O)O)c1ccc(Cl)cc1', 3), ('c1ccc(Pc2ccccc2)cc1', 3), ('Cc1noc(NS(=O)(=O)c2cc(Cl)ccc2Cl)c1Br', 3), ('Cc1ccc(N)c(N)n1', 3), ('O=C(NCCN1CCOCC1)c1ccc(Cl)cc1', 3), ('CC(C)(C)OC(=O)N1CCC(CCO)CC1', 3), ('CC(C)(C)OC(=O)N1CCN(Cc2ccc(Br)cc2)CC1', 3), ('O=C(O)CCCCCNC(=O)C(F)(F)F', 3), ('CC(C)(C)OC(=O)c1ccc(CBr)cc1', 3), ('CC(C)(C)OC(=O)N[C@@H](CC(=O)N1CCn2c(nnc2C(F)(F)F)C1)Cc1cc(F)c(F)cc1F', 3), ('c1ccc(C(c2ccccc2)(c2ccccc2)n2ccnc2)cc1', 3), ('Fc1cc(Br)ccc1OCc1ccccc1', 3), ('Nc1cc(Br)ccc1O', 3)]\n"
     ]
    }
   ],
   "source": [
    "# Find most popular product smiles (probably frags/salts)\n",
    "from collections import Counter\n",
    "prod_smi_counter = Counter(data['prod_smiles'])                 \n",
    "print(prod_smi_counter.most_common(25))                         # 还有这种用法！"
   ]
  },
  {
   "cell_type": "code",
   "execution_count": 23,
   "metadata": {},
   "outputs": [
    {
     "data": {
      "text/html": [
       "<div>\n",
       "<style scoped>\n",
       "    .dataframe tbody tr th:only-of-type {\n",
       "        vertical-align: middle;\n",
       "    }\n",
       "\n",
       "    .dataframe tbody tr th {\n",
       "        vertical-align: top;\n",
       "    }\n",
       "\n",
       "    .dataframe thead th {\n",
       "        text-align: right;\n",
       "    }\n",
       "</style>\n",
       "<table border=\"1\" class=\"dataframe\">\n",
       "  <thead>\n",
       "    <tr style=\"text-align: right;\">\n",
       "      <th></th>\n",
       "      <th>class</th>\n",
       "      <th>id</th>\n",
       "      <th>rxn_smiles</th>\n",
       "      <th>prod_smiles</th>\n",
       "      <th>prod_smiles_pop</th>\n",
       "      <th>keep</th>\n",
       "    </tr>\n",
       "  </thead>\n",
       "  <tbody>\n",
       "    <tr>\n",
       "      <th>0</th>\n",
       "      <td>6</td>\n",
       "      <td>US05849732</td>\n",
       "      <td>O=C(OCc1ccccc1)[NH:1][CH2:2][CH2:3][CH2:4][CH2...</td>\n",
       "      <td>COC(=O)[C@H](CCCCN)NC(=O)Nc1cc(OC)cc(C(C)(C)C)c1O</td>\n",
       "      <td>1</td>\n",
       "      <td>True</td>\n",
       "    </tr>\n",
       "    <tr>\n",
       "      <th>1</th>\n",
       "      <td>2</td>\n",
       "      <td>US20120114765A1</td>\n",
       "      <td>O[C:1](=[O:2])[c:3]1[cH:4][c:5]([N+:6](=[O:7])...</td>\n",
       "      <td>O=C(Nc1cccc2cnccc12)c1cc([N+](=O)[O-])c(Sc2c(C...</td>\n",
       "      <td>1</td>\n",
       "      <td>True</td>\n",
       "    </tr>\n",
       "    <tr>\n",
       "      <th>2</th>\n",
       "      <td>1</td>\n",
       "      <td>US08003648B2</td>\n",
       "      <td>O=[CH:1][c:2]1[cH:3][cH:4][c:5](-[c:6]2[n:7][c...</td>\n",
       "      <td>CCN(CC)Cc1ccc(-c2nc(C)c(COc3ccc([C@H](CC(=O)N4...</td>\n",
       "      <td>1</td>\n",
       "      <td>True</td>\n",
       "    </tr>\n",
       "    <tr>\n",
       "      <th>3</th>\n",
       "      <td>1</td>\n",
       "      <td>US09045475B2</td>\n",
       "      <td>O=[C:1]([CH2:2][F:3])[CH2:4][F:5].[CH3:6][C:7]...</td>\n",
       "      <td>CC1(C)CCC(CN2CCN(c3ccc(C(=O)NS(=O)(=O)c4ccc(NC...</td>\n",
       "      <td>1</td>\n",
       "      <td>True</td>\n",
       "    </tr>\n",
       "    <tr>\n",
       "      <th>4</th>\n",
       "      <td>2</td>\n",
       "      <td>US08188098B2</td>\n",
       "      <td>Cl[C:1](=[O:2])[O:3][CH:4]1[CH2:5][CH2:6][CH2:...</td>\n",
       "      <td>CCOc1ccc(Oc2ncnc3c2cnn3C2CCN(C(=O)OC3CCCC3)CC2...</td>\n",
       "      <td>1</td>\n",
       "      <td>True</td>\n",
       "    </tr>\n",
       "  </tbody>\n",
       "</table>\n",
       "</div>"
      ],
      "text/plain": [
       "   class               id                                         rxn_smiles  \\\n",
       "0      6       US05849732  O=C(OCc1ccccc1)[NH:1][CH2:2][CH2:3][CH2:4][CH2...   \n",
       "1      2  US20120114765A1  O[C:1](=[O:2])[c:3]1[cH:4][c:5]([N+:6](=[O:7])...   \n",
       "2      1     US08003648B2  O=[CH:1][c:2]1[cH:3][cH:4][c:5](-[c:6]2[n:7][c...   \n",
       "3      1     US09045475B2  O=[C:1]([CH2:2][F:3])[CH2:4][F:5].[CH3:6][C:7]...   \n",
       "4      2     US08188098B2  Cl[C:1](=[O:2])[O:3][CH:4]1[CH2:5][CH2:6][CH2:...   \n",
       "\n",
       "                                         prod_smiles  prod_smiles_pop  keep  \n",
       "0  COC(=O)[C@H](CCCCN)NC(=O)Nc1cc(OC)cc(C(C)(C)C)c1O                1  True  \n",
       "1  O=C(Nc1cccc2cnccc12)c1cc([N+](=O)[O-])c(Sc2c(C...                1  True  \n",
       "2  CCN(CC)Cc1ccc(-c2nc(C)c(COc3ccc([C@H](CC(=O)N4...                1  True  \n",
       "3  CC1(C)CCC(CN2CCN(c3ccc(C(=O)NS(=O)(=O)c4ccc(NC...                1  True  \n",
       "4  CCOc1ccc(Oc2ncnc3c2cnn3C2CCN(C(=O)OC3CCCC3)CC2...                1  True  "
      ]
     },
     "execution_count": 23,
     "metadata": {},
     "output_type": "execute_result"
    }
   ],
   "source": [
    "data.head()"
   ]
  },
  {
   "cell_type": "code",
   "execution_count": 22,
   "metadata": {},
   "outputs": [
    {
     "data": {
      "text/plain": [
       "1     15150\n",
       "2     11893\n",
       "6      8237\n",
       "3      5661\n",
       "7      4613\n",
       "9      1834\n",
       "4       909\n",
       "8       811\n",
       "5       672\n",
       "10      230\n",
       "Name: class, dtype: int64"
      ]
     },
     "execution_count": 22,
     "metadata": {},
     "output_type": "execute_result"
    }
   ],
   "source": [
    "# counter 统计 各product 出现的次数，并保留 出现次数小于10次， 且 prod_smiles 长度大于5 的产物。 \n",
    "data['prod_smiles_pop'] = [prod_smi_counter[smi] for smi in data['prod_smiles']]\n",
    "data['keep'] = [x[5] < 10 and  \n",
    "                len(x[4]) >= 5 \n",
    "                for x in data.itertuples()]\n",
    "\n",
    "data.loc[data['keep']]['class'].value_counts()"
   ]
  },
  {
   "cell_type": "code",
   "execution_count": 12,
   "metadata": {
    "collapsed": true,
    "jupyter": {
     "outputs_hidden": true
    }
   },
   "outputs": [],
   "source": [
    "data.loc[data['keep']].to_csv('../data/data_processed1.csv')"
   ]
  }
 ],
 "metadata": {
  "kernelspec": {
   "display_name": "Python 3 (ipykernel)",
   "language": "python",
   "name": "python3"
  },
  "language_info": {
   "codemirror_mode": {
    "name": "ipython",
    "version": 3
   },
   "file_extension": ".py",
   "mimetype": "text/x-python",
   "name": "python",
   "nbconvert_exporter": "python",
   "pygments_lexer": "ipython3",
   "version": "3.6.13"
  }
 },
 "nbformat": 4,
 "nbformat_minor": 4
}
